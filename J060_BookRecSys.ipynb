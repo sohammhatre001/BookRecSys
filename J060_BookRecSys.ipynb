{
  "nbformat": 4,
  "nbformat_minor": 0,
  "metadata": {
    "colab": {
      "name": "J060_BookRecSys.ipynb",
      "provenance": [],
      "toc_visible": true,
      "machine_shape": "hm"
    },
    "kernelspec": {
      "name": "python3",
      "display_name": "Python 3"
    },
    "accelerator": "GPU"
  },
  "cells": [
    {
      "cell_type": "markdown",
      "metadata": {
        "id": "mdVlwv9o8J3p",
        "colab_type": "text"
      },
      "source": [
        "# IMPORTING DATA"
      ]
    },
    {
      "cell_type": "code",
      "metadata": {
        "id": "U-0qt_ek5HOD",
        "colab_type": "code",
        "colab": {
          "base_uri": "https://localhost:8080/",
          "height": 134
        },
        "outputId": "f75f9b12-8938-490e-8a37-bae8bb507b1b"
      },
      "source": [
        "!pip install compress-pickle\n",
        "!pip install surprise"
      ],
      "execution_count": 2,
      "outputs": [
        {
          "output_type": "stream",
          "text": [
            "Requirement already satisfied: compress-pickle in /usr/local/lib/python3.6/dist-packages (1.1.1)\n",
            "Requirement already satisfied: surprise in /usr/local/lib/python3.6/dist-packages (0.1)\n",
            "Requirement already satisfied: scikit-surprise in /usr/local/lib/python3.6/dist-packages (from surprise) (1.1.0)\n",
            "Requirement already satisfied: scipy>=1.0.0 in /usr/local/lib/python3.6/dist-packages (from scikit-surprise->surprise) (1.4.1)\n",
            "Requirement already satisfied: numpy>=1.11.2 in /usr/local/lib/python3.6/dist-packages (from scikit-surprise->surprise) (1.18.2)\n",
            "Requirement already satisfied: six>=1.10.0 in /usr/local/lib/python3.6/dist-packages (from scikit-surprise->surprise) (1.12.0)\n",
            "Requirement already satisfied: joblib>=0.11 in /usr/local/lib/python3.6/dist-packages (from scikit-surprise->surprise) (0.14.1)\n"
          ],
          "name": "stdout"
        }
      ]
    },
    {
      "cell_type": "code",
      "metadata": {
        "id": "yEf2JQol5boz",
        "colab_type": "code",
        "colab": {}
      },
      "source": [
        "import pandas as pd\n",
        "import numpy as np\n",
        "\n",
        "from compress_pickle import dump, load\n",
        "\n",
        "from surprise import Reader\n",
        "from surprise import Dataset\n",
        "from surprise.model_selection import cross_validate\n",
        "from surprise import KNNBaseline\n",
        "from surprise import KNNWithMeans\n",
        "from surprise import KNNBasic\n",
        "from surprise import KNNWithZScore\n",
        "from surprise import SVD\n",
        "from surprise import BaselineOnly\n",
        "from surprise import NMF\n",
        "from surprise import CoClustering\n",
        "from surprise.model_selection import GridSearchCV\n",
        "from surprise.accuracy import rmse\n",
        "from surprise import accuracy\n",
        "from surprise.model_selection import train_test_split\n",
        "\n",
        "from collections import defaultdict"
      ],
      "execution_count": 0,
      "outputs": []
    },
    {
      "cell_type": "code",
      "metadata": {
        "id": "31UX87WA6URz",
        "colab_type": "code",
        "colab": {}
      },
      "source": [
        "ratings = pd.read_csv('BX-Book-Ratings.csv', delimiter=\";\", encoding=\"latin1\")\n",
        "ratings.columns = ['user_id', 'ISBN', 'bookRating']"
      ],
      "execution_count": 0,
      "outputs": []
    },
    {
      "cell_type": "code",
      "metadata": {
        "id": "sswj7A5m6WuG",
        "colab_type": "code",
        "colab": {}
      },
      "source": [
        "users = pd.read_csv('BX-Users.csv', delimiter=\";\", encoding=\"latin1\")\n",
        "users.columns = ['user_id', 'location', 'age']"
      ],
      "execution_count": 0,
      "outputs": []
    },
    {
      "cell_type": "code",
      "metadata": {
        "id": "uX4FzgGb6ZpA",
        "colab_type": "code",
        "colab": {}
      },
      "source": [
        "books = pd.read_csv('BX_Books.csv', sep=';',encoding='latin-1')\n",
        "books.columns=['ISBN', 'book_title' ,'book_author','year_of_publication', 'publisher', 'img_s', 'img_m', 'img_l']"
      ],
      "execution_count": 0,
      "outputs": []
    },
    {
      "cell_type": "markdown",
      "metadata": {
        "id": "PueTT04a4yhP",
        "colab_type": "text"
      },
      "source": [
        "# MODULAR FUNCTIONS FOR PRE-PROCESSING"
      ]
    },
    {
      "cell_type": "markdown",
      "metadata": {
        "id": "xbaqfnmj-qMc",
        "colab_type": "text"
      },
      "source": [
        "You just need get_data_surp_scratch to get the final dataframe and dataset for surprise library. \n",
        "\n",
        "It was built on top of all the functions below that.\n",
        "\n",
        "    get_data_surp_scratch(books,users,ratings):\n",
        "    input: books,users and ratings dataframe\n",
        "    returns: data_surp (final_df), data (data to be used in models)"
      ]
    },
    {
      "cell_type": "code",
      "metadata": {
        "id": "F6Gg9hWh4u8A",
        "colab_type": "code",
        "colab": {}
      },
      "source": [
        "def get_data_surp_scratch(books,users,ratings):\n",
        "  data=pre_process_merge_pipeline(books,users,ratings)\n",
        "  data_expl,data_impl=explicit_implicit_transform(data)\n",
        "  data_surp=get_data_surp(data_expl)\n",
        "  reader = Reader(rating_scale=(1, 10))\n",
        "  data = Dataset.load_from_df(data_surp[['user_id', 'ISBN', 'bookRating']], reader)\n",
        "  #data_surp is a df\n",
        "  #data is a surprise object of the Dataset module which is used for models. \n",
        "  return data_surp,data\n",
        "\n",
        "def get_data_surp(data_expl):\n",
        "  x=data_expl.groupby(['user_id'])\n",
        "  u=[]\n",
        "  # Users who have rated more than 10 books.\n",
        "  for i,j in x:\n",
        "      if j.shape[0] > 10:\n",
        "        u.append(i)\n",
        "  data_surp=data_expl[data_expl['user_id'].isin(u)]\n",
        "  data_surp=data_surp.sort_values('user_id').reset_index(drop=True)\n",
        "\n",
        "  # Books which have more than 5 number of ratings\n",
        "  y=data_surp.groupby(['ISBN'])\n",
        "  b=[]\n",
        "  for i,j in y:\n",
        "      if j.shape[0] > 5:\n",
        "        b.append(i)\n",
        "  data_surp=data_surp[data_surp['ISBN'].isin(b)]\n",
        "  data_surp=data_surp.sort_values('user_id').reset_index(drop=True)\n",
        "\n",
        "  return data_surp\n",
        "\n",
        "def explicit_implicit_transform(data): \n",
        "  #returns two dataframes, one with explicit rating and one with implicit rating.\n",
        "  data_expl = data[data.bookRating != 0]\n",
        "  data_impl = data[data.bookRating == 0] \n",
        "  return data_expl,data_impl\n",
        "\n",
        "def pre_process_merge_pipeline(books,users,ratings):\n",
        "  books=pre_process_books(books)\n",
        "  users=pre_process_users(users)\n",
        "  ratings=pre_process_rating(ratings)\n",
        "\n",
        "  #Removing duplicates in users\n",
        "  users=users[users.user_id.isin(ratings.user_id)]\n",
        "\n",
        "  ratings_books = pd.merge(ratings, books, on='ISBN')\n",
        "  \n",
        "  #Replacing not defined publishers and authors.\n",
        "  ratings_books.book_author.fillna('unknown',inplace=True)\n",
        "  ratings_books.publisher.fillna('unknown',inplace=True)\n",
        "\n",
        "  data = pd.merge(ratings_books, users, on='user_id')\n",
        "  return data\n",
        "\n",
        "def  pre_process_users(users):\n",
        "  # Not much handling for user_id\n",
        "  users.user_id = users.user_id.astype(int)\n",
        "  \n",
        "  #Too many na values for age, so created a normal distribution for na values.\n",
        "  users.age = users.age.astype(float)\n",
        "  users.loc[(users.age>99) | (users.age<5),'age'] = np.nan\n",
        "  # create a normal disgtribution pd.Series to fill Nan values with because you cannot just replace it with mean\n",
        "  # as there are a large no. of nan values.\n",
        "  rand_dist = pd.Series(np.random.normal(loc=users.age.mean(), \n",
        "                                             scale=users.age.std(), \n",
        "                                             size=users.user_id[users.age.isna()].count()))\n",
        "  #Eliminating the negative values in the random distribution\n",
        "  age_series=np.abs(rand_dist)\n",
        "  # sorting users Df so as NaN values in age to be first  \n",
        "  # reset index to match with index of age_series\n",
        "  # Then use fillna()\n",
        "  users = users.sort_values('age',na_position='first').reset_index(drop=True)\n",
        "  users.age.fillna(age_series, inplace = True) \n",
        "  # replace values < 5 with the mean(). Round values and convert them to int. \n",
        "  users.loc[users.age<5, 'age'] = users.age.mean()\n",
        "  users.age = users.age.round().astype(int)\n",
        "  #Sort users based on user_id so as to be the same as before\n",
        "  users = users.sort_values('user_id').reset_index(drop=True)\n",
        "  \n",
        "  #Dropping users location because \n",
        "  users.drop('location',axis=1,inplace=True)   \n",
        "\n",
        "  return users\n",
        "\n",
        "def pre_process_books(books):\n",
        "  #Dropping unneccesary\n",
        "  books.drop(['img_s','img_m','img_l'],axis=1,inplace=True)\n",
        "  books.year_of_publication = books.year_of_publication.astype(int)\n",
        "  \n",
        "  #Replacing na values\n",
        "  books.loc[187701,'book_author'] = \"n/a\"\n",
        "  books.loc[[128897, 129044],'publisher'] = \"NovelBooks, Inc\"\n",
        "  books.loc[(books.year_of_publication>2010)|(books.year_of_publication<1500),'year_of_publication'] = np.nan\n",
        "  books.year_of_publication.fillna(round(books.year_of_publication.mean()),inplace=True)\n",
        "\n",
        "  #Changing dtype to save memory\n",
        "  books.year_of_publication = books.year_of_publication.astype(int)\n",
        "\n",
        "  ## REMOVING DUPLICATE VALUES\n",
        "  books = books.drop_duplicates(['book_title', 'book_author'])\n",
        "\n",
        "  return books\n",
        "\n",
        "def pre_process_rating(ratings):\n",
        "  ratings = ratings[ratings.ISBN.isin(books.ISBN)]\n",
        "  \n",
        "  return ratings"
      ],
      "execution_count": 0,
      "outputs": []
    },
    {
      "cell_type": "markdown",
      "metadata": {
        "id": "MtgKY5hR7g0p",
        "colab_type": "text"
      },
      "source": [
        "#MODULAR FUNCTIONS FOR RECOMMENDER SYSTEM"
      ]
    },
    {
      "cell_type": "markdown",
      "metadata": {
        "id": "ai-bZAK4CJ7W",
        "colab_type": "text"
      },
      "source": [
        "##  CONVERSION FUNCTIONS AND HISTORY "
      ]
    },
    {
      "cell_type": "markdown",
      "metadata": {
        "id": "pUhxGHAV9bOB",
        "colab_type": "text"
      },
      "source": [
        "    def get_book_title(ISBN):\n",
        "    input: book_id(ISBN) (should be a string)\n",
        "    returns title of the book.\n",
        "\n"
      ]
    },
    {
      "cell_type": "markdown",
      "metadata": {
        "id": "8xTdqOPcBLJC",
        "colab_type": "text"
      },
      "source": [
        "    def get_book_id(book_title):\n",
        "    input: book_title (should be a string)\n",
        "    returns book_id(ISBN)."
      ]
    },
    {
      "cell_type": "markdown",
      "metadata": {
        "id": "dayXaRBKCd_t",
        "colab_type": "text"
      },
      "source": [
        "    def get_rated_books_list(user_id):\n",
        "    input: user_id\n",
        "    returns list_of_books the user has rated."
      ]
    },
    {
      "cell_type": "code",
      "metadata": {
        "id": "-H-kwkpM9MMu",
        "colab_type": "code",
        "colab": {}
      },
      "source": [
        "def get_book_title(ISBN): \n",
        "      return (data_surp.loc[(data_surp.ISBN == str(ISBN)),'book_title']).iloc[0]   \n",
        "def get_book_id(book_title): \n",
        "      return (data_surp.loc[(data_surp.book_title == str(book_title)),'ISBN'].iloc[0])\n",
        "\n",
        "def get_rated_books_list(user_id):\n",
        "    book_list=[]\n",
        "    x=(data_surp.loc[(data_surp.user_id == int(user_id)),'ISBN'].tolist())\n",
        "    for i in range(0,len(x)):\n",
        "      book_list.append(get_book_title(x[i]))\n",
        "    return book_list"
      ],
      "execution_count": 0,
      "outputs": []
    },
    {
      "cell_type": "markdown",
      "metadata": {
        "id": "LzKnH3ur8hFG",
        "colab_type": "text"
      },
      "source": [
        "## TOP N RECOMMENDATIONS FOR A NEW USER"
      ]
    },
    {
      "cell_type": "markdown",
      "metadata": {
        "id": "LaaCULdkDeac",
        "colab_type": "text"
      },
      "source": [
        "Used for a new user.\n",
        "\n",
        "    def topn_recommendations_new_user(n,data_surp):\n",
        "    input: n: no.of recommendations to give.\n",
        "    data_surp: final_df"
      ]
    },
    {
      "cell_type": "code",
      "metadata": {
        "id": "N6nlcfbj8SKw",
        "colab_type": "code",
        "colab": {}
      },
      "source": [
        "def topn_recommendations_new_user(n,data_surp):\n",
        "  ratings_count = pd.DataFrame(data_surp.groupby(['ISBN'])['bookRating'].sum())\n",
        "  topn = ratings_count.sort_values('bookRating', ascending = False).head(n)\n",
        "  print(\"Following books are recommended:\")\n",
        "  topn=topn.merge(data_surp, left_index = True, right_on = 'ISBN')\n",
        "  return list(topn.book_title.unique())"
      ],
      "execution_count": 0,
      "outputs": []
    },
    {
      "cell_type": "markdown",
      "metadata": {
        "id": "Sp_O78rg8qW5",
        "colab_type": "text"
      },
      "source": [
        "## USER BASED CF FUNCTION"
      ]
    },
    {
      "cell_type": "markdown",
      "metadata": {
        "id": "-7ejInLcApnK",
        "colab_type": "text"
      },
      "source": [
        "Gives existing user, n recommendations of books to read.\n",
        "\n",
        "    def get_n_recommendations_for_user(n,user_id,uscf_predictions):\n",
        "    input: \n",
        "    n:number of recommendations\n",
        "    user_id\n",
        "    uscf_predictions: user-based model predictions"
      ]
    },
    {
      "cell_type": "code",
      "metadata": {
        "id": "cG8pozt-9NIw",
        "colab_type": "code",
        "colab": {}
      },
      "source": [
        "def get_n_recommendations_for_user(n,user_id,uscf_predictions):\n",
        "    \n",
        "    # First map the predictions to each user.\n",
        "    top_n = defaultdict(list)    \n",
        "    for uid, iid, true_r, est, _ in uscf_predictions:\n",
        "        top_n[uid].append((iid, est))\n",
        "\n",
        "    # Then sort the predictions for each user\n",
        "    for uid, user_ratings in top_n.items():\n",
        "        user_ratings.sort(key=lambda x: x[1], reverse=True)\n",
        "    \n",
        "    all_pred=top_n\n",
        "\n",
        "    for uid, user_ratings in all_pred.items():\n",
        "      user_ratings.sort(key=lambda x: x[1], reverse=True)\n",
        "      all_pred[uid] = user_ratings[:n] \n",
        "\n",
        "    tmp = pd.DataFrame.from_dict(all_pred)\n",
        "    tmp_transpose = tmp.transpose()\n",
        "\n",
        "    results = tmp_transpose.loc[user_id]\n",
        "    recommended_book_ids=[]\n",
        "    recommended_book_titles=[]\n",
        "\n",
        "    for x in range(0, n):\n",
        "      recommended_book_ids.append(results[x][0])\n",
        "    \n",
        "    for i in range(0,len(recommended_book_ids)):\n",
        "      recommended_book_titles.append(get_book_title(recommended_book_ids[i]))\n",
        "\n",
        "    return recommended_book_titles"
      ],
      "execution_count": 0,
      "outputs": []
    },
    {
      "cell_type": "markdown",
      "metadata": {
        "id": "w4vsrJgA9onF",
        "colab_type": "text"
      },
      "source": [
        "### ITEM BASED CF FUNCTION"
      ]
    },
    {
      "cell_type": "markdown",
      "metadata": {
        "id": "hvouexnk9wIY",
        "colab_type": "text"
      },
      "source": [
        "    def get_n_similar_books(n,book,itcf)\n",
        "    Three inputs:\n",
        "    n : top n similar books. \n",
        "    book :  Name of the book.\n",
        "    itcf :\n",
        "    returns: print statement with n similar books to input book."
      ]
    },
    {
      "cell_type": "code",
      "metadata": {
        "id": "_dI8X5qp9lYx",
        "colab_type": "code",
        "colab": {}
      },
      "source": [
        "def get_n_similar_books(n,book,itcf):\n",
        "  # Retrieve inner id of the movie Toy Story\n",
        "  book_raw_id = get_book_id(book)\n",
        "  book_inner_id = itcf.trainset.to_inner_iid(book_raw_id)\n",
        "\n",
        "  # Retrieve inner ids of the nearest neighbors of Toy Story.\n",
        "  book_neighbors = itcf.get_neighbors(book_inner_id, k=n)\n",
        "\n",
        "  # Convert inner ids of the neighbors into names.\n",
        "  book_neighbors = (itcf.trainset.to_raw_iid(inner_id)\n",
        "                            for inner_id in book_neighbors)\n",
        "  book_neighbors = (get_book_title(rid)\n",
        "                            for rid in book_neighbors)\n",
        "  print()\n",
        "  print('The '+str(n)+' nearest neighbors of '+str(book)+' are:')\n",
        "  for book in book_neighbors:\n",
        "    print(book)"
      ],
      "execution_count": 0,
      "outputs": []
    },
    {
      "cell_type": "markdown",
      "metadata": {
        "id": "svqr8P8zFCU_",
        "colab_type": "text"
      },
      "source": [
        "# GETTING REQ. DATA OBJECTS "
      ]
    },
    {
      "cell_type": "code",
      "metadata": {
        "id": "ZqDGAg0lFCCv",
        "colab_type": "code",
        "colab": {}
      },
      "source": [
        "data_surp,data = get_data_surp_scratch(books,users,ratings)"
      ],
      "execution_count": 0,
      "outputs": []
    },
    {
      "cell_type": "code",
      "metadata": {
        "id": "FUzrnMMyQyjK",
        "colab_type": "code",
        "colab": {
          "base_uri": "https://localhost:8080/",
          "height": 34
        },
        "outputId": "ea507eab-e73e-407f-a2be-d18596ed5e30"
      },
      "source": [
        "data_surp.shape"
      ],
      "execution_count": 13,
      "outputs": [
        {
          "output_type": "execute_result",
          "data": {
            "text/plain": [
              "(76901, 8)"
            ]
          },
          "metadata": {
            "tags": []
          },
          "execution_count": 13
        }
      ]
    },
    {
      "cell_type": "code",
      "metadata": {
        "id": "ABasnIKtQ-lW",
        "colab_type": "code",
        "colab": {
          "base_uri": "https://localhost:8080/",
          "height": 34
        },
        "outputId": "f46b9c3c-0251-44aa-9f4a-e80a713e1758"
      },
      "source": [
        "data"
      ],
      "execution_count": 14,
      "outputs": [
        {
          "output_type": "execute_result",
          "data": {
            "text/plain": [
              "<surprise.dataset.DatasetAutoFolds at 0x7f644a4f0e48>"
            ]
          },
          "metadata": {
            "tags": []
          },
          "execution_count": 14
        }
      ]
    },
    {
      "cell_type": "markdown",
      "metadata": {
        "id": "el9WLzcDEzZW",
        "colab_type": "text"
      },
      "source": [
        "# USER BASED CF MODEL AND PREDICTIONS"
      ]
    },
    {
      "cell_type": "markdown",
      "metadata": {
        "id": "IHh6Ul-HFtxq",
        "colab_type": "text"
      },
      "source": [
        "## MODEL "
      ]
    },
    {
      "cell_type": "code",
      "metadata": {
        "id": "dsE4ODL9Ey8Y",
        "colab_type": "code",
        "colab": {
          "base_uri": "https://localhost:8080/",
          "height": 50
        },
        "outputId": "81613124-6c1f-4378-9b0a-ad359f20af8b"
      },
      "source": [
        "epochs = 20\n",
        "lr_value = 0.005\n",
        "reg_value = 0.15\n",
        "\n",
        "trainset = data.build_full_trainset()   #Build on entire data set\n",
        "uscf_algo = SVD(n_epochs=epochs, lr_all=lr_value, reg_all=reg_value)\n",
        "uscf_algo.fit(trainset)\n",
        "\n",
        "# Predict ratings for all pairs (u, i) that are NOT in the training set.\n",
        "uscf_testset = trainset.build_anti_testset()\n",
        "\n",
        "#Predicting the ratings for testset\n",
        "uscf_predictions = uscf_algo.test(uscf_testset)\n",
        "accuracy.rmse(uscf_predictions)"
      ],
      "execution_count": 15,
      "outputs": [
        {
          "output_type": "stream",
          "text": [
            "RMSE: 0.6564\n"
          ],
          "name": "stdout"
        },
        {
          "output_type": "execute_result",
          "data": {
            "text/plain": [
              "0.65636788447152"
            ]
          },
          "metadata": {
            "tags": []
          },
          "execution_count": 15
        }
      ]
    },
    {
      "cell_type": "markdown",
      "metadata": {
        "id": "qO7T3gYqF03B",
        "colab_type": "text"
      },
      "source": [
        "## RECOMMENDATIONS FOR BEST USER PREDICTIONS AND WORST USER PREDICTIONS "
      ]
    },
    {
      "cell_type": "markdown",
      "metadata": {
        "id": "PO-lBRMbHAUY",
        "colab_type": "text"
      },
      "source": [
        "These user ids were retrieved from the pre-processing and exploratory pynb.\n",
        "\n",
        "    best prediction: user_id: 268657\n",
        "    worst prediction: user_id: 245827"
      ]
    },
    {
      "cell_type": "markdown",
      "metadata": {
        "id": "gIqK-wBpa9kF",
        "colab_type": "text"
      },
      "source": [
        "Best predicted ratings user:"
      ]
    },
    {
      "cell_type": "code",
      "metadata": {
        "id": "HO6dyKWgF0Cv",
        "colab_type": "code",
        "colab": {
          "base_uri": "https://localhost:8080/",
          "height": 185
        },
        "outputId": "44adefcb-9c9e-4c44-d22d-b6107481a340"
      },
      "source": [
        "get_n_recommendations_for_user(10,268657,uscf_predictions)"
      ],
      "execution_count": 16,
      "outputs": [
        {
          "output_type": "execute_result",
          "data": {
            "text/plain": [
              "['Dilbert: A Book of Postcards',\n",
              " 'Harry Potter and the Chamber of Secrets Postcard Book',\n",
              " \"Scientific Progress Goes 'Boink':  A Calvin and Hobbes Collection\",\n",
              " \"My Sister's Keeper : A Novel (Picoult, Jodi)\",\n",
              " 'The Return of the King (The Lord of the Rings, Part 3)',\n",
              " 'The Two Towers (The Lord of the Rings, Part 2)',\n",
              " 'Mrs. Frisby and the Rats of Nimh',\n",
              " \"The Time Traveler's Wife\",\n",
              " 'Calvin and Hobbes',\n",
              " 'Fox in Socks (I Can Read It All by Myself Beginner Books)']"
            ]
          },
          "metadata": {
            "tags": []
          },
          "execution_count": 16
        }
      ]
    },
    {
      "cell_type": "code",
      "metadata": {
        "id": "H8oX8UV-aIZy",
        "colab_type": "code",
        "colab": {
          "base_uri": "https://localhost:8080/",
          "height": 336
        },
        "outputId": "452e9f1d-f528-4f5b-d00d-5d143cdd2a99"
      },
      "source": [
        "get_rated_books_list(268657)"
      ],
      "execution_count": 17,
      "outputs": [
        {
          "output_type": "execute_result",
          "data": {
            "text/plain": [
              "['The Mystery at Lilac Inn (Nancy Drew Mystery Stories, No 4)',\n",
              " \"Dogbert's Top Secret Management Handbook\",\n",
              " 'The Curious Incident of the Dog in the Night-Time (Today Show Book Club #13)',\n",
              " 'Anne Frank: The Diary of a Young Girl',\n",
              " 'The Dilbert Future: Thriving on Stupidity in the 21st Century',\n",
              " 'Harry Potter and the Goblet of Fire (Book 4)',\n",
              " 'Harry Potter and the Prisoner of Azkaban (Book 3)',\n",
              " 'Bridget Jones: The Edge of Reason',\n",
              " 'The Virgin Suicides',\n",
              " \"Harry Potter and the Sorcerer's Stone (Book 1)\",\n",
              " \"The Dilbert Principle: A Cubicle'S-Eye View of Bosses, Meetings, Management Fads & Other Workplace Afflictions\",\n",
              " 'Artemis Fowl (Artemis Fowl, Book 1)',\n",
              " 'How To Win Friends And Influence People',\n",
              " 'The Da Vinci Code',\n",
              " 'Divine Secrets of the Ya-Ya Sisterhood: A Novel',\n",
              " 'Chicken Soup for the Teenage Soul III : More Stories of Life, Love and Learning (Chicken Soup for the Soul)',\n",
              " \"Sophie's World: A Novel About the History of Philosophy\",\n",
              " 'The Catcher in the Rye',\n",
              " 'The Hidden Staircase (Nancy Drew Mystery Stories, No 2)']"
            ]
          },
          "metadata": {
            "tags": []
          },
          "execution_count": 17
        }
      ]
    },
    {
      "cell_type": "markdown",
      "metadata": {
        "id": "jWyKQwvRa2vX",
        "colab_type": "text"
      },
      "source": [
        "Worst predicted ratings user:"
      ]
    },
    {
      "cell_type": "code",
      "metadata": {
        "id": "oiwS5GLwHF7_",
        "colab_type": "code",
        "colab": {
          "base_uri": "https://localhost:8080/",
          "height": 185
        },
        "outputId": "69c3945a-d14c-47f7-a188-dfbcba9f86ae"
      },
      "source": [
        "get_n_recommendations_for_user(10,245827,uscf_predictions)"
      ],
      "execution_count": 15,
      "outputs": [
        {
          "output_type": "execute_result",
          "data": {
            "text/plain": [
              "['Dune (Remembering Tomorrow)',\n",
              " 'Harry Potter and the Chamber of Secrets Postcard Book',\n",
              " \"My Sister's Keeper : A Novel (Picoult, Jodi)\",\n",
              " 'Dilbert: A Book of Postcards',\n",
              " 'The Return of the King (The Lord of the Rings, Part 3)',\n",
              " 'Fox in Socks (I Can Read It All by Myself Beginner Books)',\n",
              " \"The Time Traveler's Wife\",\n",
              " 'Where the Sidewalk Ends : Poems and Drawings',\n",
              " 'To Kill a Mockingbird',\n",
              " 'Route 66 Postcards: Greetings from the Mother Road']"
            ]
          },
          "metadata": {
            "tags": []
          },
          "execution_count": 15
        }
      ]
    },
    {
      "cell_type": "code",
      "metadata": {
        "id": "u3LQMmbvaaMh",
        "colab_type": "code",
        "colab": {
          "base_uri": "https://localhost:8080/",
          "height": 706
        },
        "outputId": "807b78ba-f165-4c2b-8920-049466bf540b"
      },
      "source": [
        "get_rated_books_list(245827)"
      ],
      "execution_count": 17,
      "outputs": [
        {
          "output_type": "execute_result",
          "data": {
            "text/plain": [
              "['Dragon Tears',\n",
              " 'Runaway Ralph (Cleary Reissue)',\n",
              " 'Matilda',\n",
              " 'Men Are from Mars, Women Are from Venus: A Practical Guide for Improving Communication and Getting What You Want in Your Relationships',\n",
              " 'Eucalyptus: A Novel',\n",
              " 'Memoirs of a Geisha',\n",
              " 'The Encounter (Animorphs , No 3)',\n",
              " 'Mind Prey',\n",
              " 'The Secret of the Old Clock (Nancy Drew Mystery Stories, No 1)',\n",
              " 'The Runaway Jury',\n",
              " 'Wayside School is Falling Down',\n",
              " 'Hannibal',\n",
              " 'Protect and Defend',\n",
              " 'Before I Say Good-Bye',\n",
              " \"The Kitchen God's Wife\",\n",
              " 'Jewel',\n",
              " 'Loves Music, Loves to Dance',\n",
              " 'The Hundred Secret Senses',\n",
              " 'Dawn (Cutler)',\n",
              " 'A Case of Need',\n",
              " 'Harry Potter and the Goblet of Fire (Book 4)',\n",
              " 'Compelling Evidence',\n",
              " 'The Green Mile: Coffey on the Mile (Green Mile Series)',\n",
              " \"The Green Mile: Coffey's Hands (Green Mile Series)\",\n",
              " 'Strip Tease',\n",
              " 'The Greatest Generation',\n",
              " 'Kiss of the Bees: A Novel of Suspense',\n",
              " 'Rose Madder',\n",
              " 'A Wrinkle in Time',\n",
              " 'The Green Mile: The Mouse on the Mile (Green Mile Series)',\n",
              " 'Out of Africa ; and, Shadows on the grass',\n",
              " 'A Thief of Time (Joe Leaphorn/Jim Chee Novels)',\n",
              " 'Beloved: A Novel (Plume Contemporary Fiction)',\n",
              " 'The Horse and His Boy',\n",
              " 'The Alien (Animorphs, No 8)',\n",
              " 'Search for Senna (Everworld, 1)',\n",
              " 'Holes (Newbery Medal Book)',\n",
              " 'The Bellmaker (Redwall, Book 7)',\n",
              " \"Dogbert's Top Secret Management Handbook\",\n",
              " 'The Clinic (Alex Delaware Novels (Paperback))',\n",
              " 'Jack and Jill: A Novel']"
            ]
          },
          "metadata": {
            "tags": []
          },
          "execution_count": 17
        }
      ]
    },
    {
      "cell_type": "markdown",
      "metadata": {
        "id": "yJKrv7UxHgPQ",
        "colab_type": "text"
      },
      "source": [
        "# ITEM BASED CF MODEL AND PREDICTIONS"
      ]
    },
    {
      "cell_type": "code",
      "metadata": {
        "id": "PRO4DIBLKvS8",
        "colab_type": "code",
        "colab": {
          "base_uri": "https://localhost:8080/",
          "height": 67
        },
        "outputId": "c22f085d-f475-4737-8b24-68402a0420a5"
      },
      "source": [
        "# First, train the algortihm to compute the similarities between items\n",
        "trainset = data.build_full_trainset()\n",
        "sim_options = {'name': 'pearson_baseline', 'user_based': False,\n",
        "               'shrinkage':10 }\n",
        "\n",
        "bsl_options={'bsl_options': {'method': ['sgd'],\n",
        "                              'reg': [1]}}\n",
        "itcf_algo = KNNBaseline(sim_options=sim_options,bsl_options=bsl_options)\n",
        "itcf=itcf_algo.fit(trainset)"
      ],
      "execution_count": 18,
      "outputs": [
        {
          "output_type": "stream",
          "text": [
            "Estimating biases using als...\n",
            "Computing the pearson_baseline similarity matrix...\n",
            "Done computing similarity matrix.\n"
          ],
          "name": "stdout"
        }
      ]
    },
    {
      "cell_type": "code",
      "metadata": {
        "id": "4KW25ZEWjxOh",
        "colab_type": "code",
        "colab": {
          "base_uri": "https://localhost:8080/",
          "height": 34
        },
        "outputId": "c0c228f7-1df9-4705-f34d-9a6ca9be6ff3"
      },
      "source": [
        "book=\"Harry Potter and the Sorcerer\\'s Stone (Book 1)\""
      ],
      "execution_count": 20,
      "outputs": [
        {
          "output_type": "stream",
          "text": [
            "ERROR! Session/line number was not unique in database. History logging moved to new session 60\n"
          ],
          "name": "stdout"
        }
      ]
    },
    {
      "cell_type": "code",
      "metadata": {
        "id": "K2ym29JOOWkv",
        "colab_type": "code",
        "colab": {
          "base_uri": "https://localhost:8080/",
          "height": 168
        },
        "outputId": "fe8daaeb-af44-4360-9bc8-e310bc1878bc"
      },
      "source": [
        "get_n_similar_books(7,book,itcf)"
      ],
      "execution_count": 21,
      "outputs": [
        {
          "output_type": "stream",
          "text": [
            "\n",
            "The 7 nearest neighbors of Harry Potter and the Sorcerer's Stone (Book 1) are:\n",
            "Harry Potter and the Prisoner of Azkaban (Book 3)\n",
            "Harry Potter and the Order of the Phoenix (Book 5)\n",
            "Harry Potter and the Goblet of Fire (Book 4)\n",
            "The Hobbit: or There and Back Again\n",
            "Interview with the Vampire\n",
            "The Red Tent (Bestselling Backlist)\n",
            "Anne Frank: The Diary of a Young Girl\n"
          ],
          "name": "stdout"
        }
      ]
    },
    {
      "cell_type": "code",
      "metadata": {
        "id": "pOv_rGt-k6yw",
        "colab_type": "code",
        "colab": {
          "base_uri": "https://localhost:8080/",
          "height": 168
        },
        "outputId": "c68302a2-461b-4604-ffbf-e86f692b1184"
      },
      "source": [
        "get_n_similar_books(7,'Anne Frank: The Diary of a Young Girl',itcf)"
      ],
      "execution_count": 22,
      "outputs": [
        {
          "output_type": "stream",
          "text": [
            "\n",
            "The 7 nearest neighbors of Anne Frank: The Diary of a Young Girl are:\n",
            "Harry Potter and the Prisoner of Azkaban (Book 3)\n",
            "Harry Potter and the Sorcerer's Stone (Book 1)\n",
            "Divine Secrets of the Ya-Ya Sisterhood: A Novel\n",
            "A Wind in the Door\n",
            "ANGELA'S ASHES\n",
            "Make the Connection: Ten Steps to a Better Body and a Better Life\n",
            "FOREVER : A Novel of Good and Evil, Love and Hope\n"
          ],
          "name": "stdout"
        }
      ]
    },
    {
      "cell_type": "markdown",
      "metadata": {
        "id": "g6DFhK7DPhxf",
        "colab_type": "text"
      },
      "source": [
        "# TOP N BOOKS RECOMMENDATION PREDICTIONS FOR A NEW USER"
      ]
    },
    {
      "cell_type": "code",
      "metadata": {
        "id": "_CmPosTbPhI9",
        "colab_type": "code",
        "colab": {
          "base_uri": "https://localhost:8080/",
          "height": 370
        },
        "outputId": "252cd1da-a161-4c58-8775-7c87899948fa"
      },
      "source": [
        "topn_recommendations_new_user(20,data_surp)"
      ],
      "execution_count": 24,
      "outputs": [
        {
          "output_type": "stream",
          "text": [
            "Following books are recommended:\n"
          ],
          "name": "stdout"
        },
        {
          "output_type": "execute_result",
          "data": {
            "text/plain": [
              "['The Lovely Bones: A Novel',\n",
              " 'The Da Vinci Code',\n",
              " \"Harry Potter and the Sorcerer's Stone (Harry Potter (Paperback))\",\n",
              " 'The Red Tent (Bestselling Backlist)',\n",
              " 'The Secret Life of Bees',\n",
              " 'Harry Potter and the Order of the Phoenix (Book 5)',\n",
              " \"Where the Heart Is (Oprah's Book Club (Paperback))\",\n",
              " 'Divine Secrets of the Ya-Ya Sisterhood: A Novel',\n",
              " 'Interview with the Vampire',\n",
              " 'Angels & Demons',\n",
              " 'To Kill a Mockingbird',\n",
              " 'Girl with a Pearl Earring',\n",
              " 'Jurassic Park',\n",
              " 'Good in Bed',\n",
              " \"The Pilot's Wife : A Novel\",\n",
              " 'Harry Potter and the Prisoner of Azkaban (Book 3)',\n",
              " 'Harry Potter and the Chamber of Secrets (Book 2)',\n",
              " \"Tuesdays with Morrie: An Old Man, a Young Man, and Life's Greatest Lesson\",\n",
              " 'A Time to Kill',\n",
              " 'The Five People You Meet in Heaven']"
            ]
          },
          "metadata": {
            "tags": []
          },
          "execution_count": 24
        }
      ]
    },
    {
      "cell_type": "code",
      "metadata": {
        "id": "biKevBHflcpo",
        "colab_type": "code",
        "colab": {}
      },
      "source": [
        ""
      ],
      "execution_count": 0,
      "outputs": []
    }
  ]
}